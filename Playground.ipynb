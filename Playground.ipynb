{
 "cells": [
  {
   "cell_type": "markdown",
   "id": "a454a9e4-03bd-4df4-a201-40eb8e76c4d1",
   "metadata": {},
   "source": [
    "# General Use"
   ]
  },
  {
   "cell_type": "markdown",
   "id": "41bad5da-0628-4bdb-81a2-1a4faa13717e",
   "metadata": {},
   "source": [
    "## Find the difference between two DICOM files"
   ]
  },
  {
   "cell_type": "code",
   "execution_count": 1,
   "id": "8003f5d6-17f5-488d-8e4d-c30fc6e61a65",
   "metadata": {
    "tags": []
   },
   "outputs": [],
   "source": [
    "import difflib\n",
    "import pydicom\n",
    "from pydicom.data import get_testdata_file\n",
    "from pprint import pprint\n",
    "from pathlib import Path\n",
    "from IPython.display import display, HTML, FileLink"
   ]
  },
  {
   "cell_type": "code",
   "execution_count": 2,
   "id": "d84279f4-7322-43a0-9c85-512cc8ac385e",
   "metadata": {
    "tags": []
   },
   "outputs": [
    {
     "name": "stdout",
     "output_type": "stream",
     "text": [
      "############ /Users/painflat/.local/share/virtualenvs/DICOM--xoABAxb/lib/python3.9/site-packages/pydicom/data/test_files/MR_small.dcm ############\n",
      "{'00080008': {'Value': ['DERIVED', 'SECONDARY', 'OTHER'], 'vr': 'CS'},\n",
      " '00080012': {'Value': ['20040826'], 'vr': 'DA'},\n",
      " '00080013': {'Value': ['185434'], 'vr': 'TM'},\n",
      " '00080014': {'Value': ['1.3.6.1.4.1.5962.3'], 'vr': 'UI'},\n",
      " '00080016': {'Value': ['1.2.840.10008.5.1.4.1.1.4'], 'vr': 'UI'},\n",
      " '00080018': {'Value': ['1.3.6.1.4.1.5962.1.1.4.1.1.20040826185059.5457'],\n",
      "              'vr': 'UI'},\n",
      " '00080020': {'Value': ['20040826'], 'vr': 'DA'},\n",
      " '00080021': {'vr': 'DA'},\n",
      " '00080022': {'vr': 'DA'},\n",
      " '00080030': {'Value': ['185059'], 'vr': 'TM'},\n",
      " '00080031': {'vr': 'TM'},\n",
      " '00080032': {'vr': 'TM'},\n",
      " '00080050': {'vr': 'SH'},\n",
      " '00080060': {'Value': ['MR'], 'vr': 'CS'},\n",
      " '00080070': {'Value': ['TOSHIBA_MEC'], 'vr': 'LO'},\n",
      " '00080080': {'Value': ['TOSHIBA'], 'vr': 'LO'},\n",
      " '00080090': {'vr': 'PN'},\n",
      " '00080201': {'Value': ['-0400'], 'vr': 'SH'},\n",
      " '00081010': {'Value': ['000000000'], 'vr': 'SH'},\n",
      " '00081060': {'Value': [{'Alphabetic': '----'}], 'vr': 'PN'},\n",
      " '00081070': {'Value': [{'Alphabetic': '----'}], 'vr': 'PN'},\n",
      " '00081090': {'Value': ['MRT50H1'], 'vr': 'LO'}}\n",
      "############ /Users/painflat/.local/share/virtualenvs/DICOM--xoABAxb/lib/python3.9/site-packages/pydicom/data/test_files/CT_small.dcm ############\n",
      "{'00080005': {'Value': ['ISO_IR 100'], 'vr': 'CS'},\n",
      " '00080008': {'Value': ['ORIGINAL', 'PRIMARY', 'AXIAL'], 'vr': 'CS'},\n",
      " '00080012': {'Value': ['20040119'], 'vr': 'DA'},\n",
      " '00080013': {'Value': ['072731'], 'vr': 'TM'},\n",
      " '00080014': {'Value': ['1.3.6.1.4.1.5962.3'], 'vr': 'UI'},\n",
      " '00080016': {'Value': ['1.2.840.10008.5.1.4.1.1.2'], 'vr': 'UI'},\n",
      " '00080018': {'Value': ['1.3.6.1.4.1.5962.1.1.1.1.1.20040119072730.12322'],\n",
      "              'vr': 'UI'},\n",
      " '00080020': {'Value': ['20040119'], 'vr': 'DA'},\n",
      " '00080021': {'Value': ['19970430'], 'vr': 'DA'},\n",
      " '00080022': {'Value': ['19970430'], 'vr': 'DA'},\n",
      " '00080023': {'Value': ['19970430'], 'vr': 'DA'},\n",
      " '00080030': {'Value': ['072730'], 'vr': 'TM'},\n",
      " '00080031': {'Value': ['112749'], 'vr': 'TM'},\n",
      " '00080032': {'Value': ['112936'], 'vr': 'TM'},\n",
      " '00080033': {'Value': ['113008'], 'vr': 'TM'},\n",
      " '00080050': {'vr': 'SH'},\n",
      " '00080060': {'Value': ['CT'], 'vr': 'CS'},\n",
      " '00080070': {'Value': ['GE MEDICAL SYSTEMS'], 'vr': 'LO'},\n",
      " '00080080': {'Value': ['JFK IMAGING CENTER'], 'vr': 'LO'},\n",
      " '00080090': {'vr': 'PN'},\n",
      " '00080201': {'Value': ['-0500'], 'vr': 'SH'},\n",
      " '00081010': {'Value': ['CT01_OC0'], 'vr': 'SH'},\n",
      " '00081030': {'Value': ['e+1'], 'vr': 'LO'},\n",
      " '00081090': {'Value': ['RHAPSODE'], 'vr': 'LO'}}\n"
     ]
    }
   ],
   "source": [
    "filename_mr = get_testdata_file('MR_small.dcm')\n",
    "filename_ct = get_testdata_file('CT_small.dcm')\n",
    "\n",
    "datasets = tuple([pydicom.dcmread(filename, force=True) for filename in (filename_mr, filename_ct)])\n",
    "\n",
    "# Reference of pydicom.dataset.filedataset\n",
    "#   https://pydicom.github.io/pydicom/dev/reference/generated/pydicom.dataset.FileDataset.html\n",
    "for data in datasets:\n",
    "    print(f'############ {data.filename} ############')\n",
    "    pprint({k:v for k,v in data.to_json_dict().items() if k.startswith('0008')})"
   ]
  },
  {
   "cell_type": "code",
   "execution_count": 3,
   "id": "1b9d3973-f1b5-45cd-bc36-59f91ff64150",
   "metadata": {
    "tags": []
   },
   "outputs": [
    {
     "data": {
      "text/html": [
       "<a href='diff.html' target='_blank'>diff.html</a><br>"
      ],
      "text/plain": [
       "/Users/painflat/Projects/study/DICOM/diff.html"
      ]
     },
     "execution_count": 3,
     "metadata": {},
     "output_type": "execute_result"
    }
   ],
   "source": [
    "rep = []\n",
    "for dataset in datasets:\n",
    "    lines = str(dataset).split(\"\\n\")\n",
    "    lines = [line + \"\\n\" for line in lines]  # add the newline to end\n",
    "    rep.append(lines)\n",
    "\n",
    "\n",
    "html_diff = difflib.HtmlDiff().make_file(rep[0], rep[1])\n",
    "Path('diff.html').write_text(html_diff)\n",
    "FileLink('diff.html')"
   ]
  },
  {
   "cell_type": "markdown",
   "id": "fcf64285-a573-44b2-bc57-27bf169cdd35",
   "metadata": {},
   "source": [
    "# Image Processing"
   ]
  },
  {
   "cell_type": "code",
   "execution_count": null,
   "id": "24e75de8-690c-4010-98c6-b102b6232605",
   "metadata": {},
   "outputs": [],
   "source": []
  },
  {
   "cell_type": "markdown",
   "id": "e841fbea-ea26-43aa-9c07-df1a176fde36",
   "metadata": {},
   "source": [
    "# Input & Output"
   ]
  },
  {
   "cell_type": "code",
   "execution_count": null,
   "id": "be45cbf3-9ba4-49c8-afad-f2446108897b",
   "metadata": {},
   "outputs": [],
   "source": []
  },
  {
   "cell_type": "markdown",
   "id": "9270b611-bfd0-416f-a1ee-77f02cdcc271",
   "metadata": {},
   "source": [
    "# Metadata Processing"
   ]
  },
  {
   "cell_type": "code",
   "execution_count": null,
   "id": "0afe2dcd-6590-4078-83e1-0d6db733217f",
   "metadata": {},
   "outputs": [],
   "source": []
  },
  {
   "cell_type": "markdown",
   "id": "9df6c5f2-5e5e-4b7d-ba6c-5248b5c55d76",
   "metadata": {},
   "source": [
    "# DICOM Network Protocol"
   ]
  },
  {
   "cell_type": "code",
   "execution_count": null,
   "id": "3a112e0a-66cf-4d93-ade7-24f9016efb5b",
   "metadata": {},
   "outputs": [],
   "source": []
  },
  {
   "cell_type": "markdown",
   "id": "bb7d29e8-672b-4e2d-8029-60385b1356e4",
   "metadata": {},
   "source": [
    "# Introduction of Orthanc"
   ]
  },
  {
   "cell_type": "code",
   "execution_count": null,
   "id": "7bef68d6-9929-4f98-ae77-bfa7d8b25fb5",
   "metadata": {},
   "outputs": [],
   "source": []
  }
 ],
 "metadata": {
  "kernelspec": {
   "display_name": "Python 3 (ipykernel)",
   "language": "python",
   "name": "python3"
  },
  "language_info": {
   "codemirror_mode": {
    "name": "ipython",
    "version": 3
   },
   "file_extension": ".py",
   "mimetype": "text/x-python",
   "name": "python",
   "nbconvert_exporter": "python",
   "pygments_lexer": "ipython3",
   "version": "3.9.13"
  }
 },
 "nbformat": 4,
 "nbformat_minor": 5
}
