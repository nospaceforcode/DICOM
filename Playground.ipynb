{
 "cells": [
  {
   "cell_type": "markdown",
   "id": "a454a9e4-03bd-4df4-a201-40eb8e76c4d1",
   "metadata": {},
   "source": [
    "# General Use"
   ]
  },
  {
   "cell_type": "code",
   "execution_count": null,
   "id": "183457fc-a7b0-44dc-89e4-e0c7b4cede3a",
   "metadata": {},
   "outputs": [],
   "source": []
  },
  {
   "cell_type": "markdown",
   "id": "fcf64285-a573-44b2-bc57-27bf169cdd35",
   "metadata": {},
   "source": [
    "# Image Processing"
   ]
  },
  {
   "cell_type": "code",
   "execution_count": null,
   "id": "24e75de8-690c-4010-98c6-b102b6232605",
   "metadata": {},
   "outputs": [],
   "source": []
  },
  {
   "cell_type": "markdown",
   "id": "e841fbea-ea26-43aa-9c07-df1a176fde36",
   "metadata": {},
   "source": [
    "# Input & Output"
   ]
  },
  {
   "cell_type": "code",
   "execution_count": null,
   "id": "be45cbf3-9ba4-49c8-afad-f2446108897b",
   "metadata": {},
   "outputs": [],
   "source": []
  },
  {
   "cell_type": "markdown",
   "id": "9270b611-bfd0-416f-a1ee-77f02cdcc271",
   "metadata": {},
   "source": [
    "# Metadata Processing"
   ]
  },
  {
   "cell_type": "code",
   "execution_count": null,
   "id": "0afe2dcd-6590-4078-83e1-0d6db733217f",
   "metadata": {},
   "outputs": [],
   "source": []
  },
  {
   "cell_type": "markdown",
   "id": "9df6c5f2-5e5e-4b7d-ba6c-5248b5c55d76",
   "metadata": {},
   "source": [
    "# DICOM Network Protocol"
   ]
  },
  {
   "cell_type": "code",
   "execution_count": null,
   "id": "3a112e0a-66cf-4d93-ade7-24f9016efb5b",
   "metadata": {},
   "outputs": [],
   "source": []
  },
  {
   "cell_type": "markdown",
   "id": "bb7d29e8-672b-4e2d-8029-60385b1356e4",
   "metadata": {},
   "source": [
    "# Introduction of Orthanc"
   ]
  },
  {
   "cell_type": "code",
   "execution_count": null,
   "id": "7bef68d6-9929-4f98-ae77-bfa7d8b25fb5",
   "metadata": {},
   "outputs": [],
   "source": []
  }
 ],
 "metadata": {
  "kernelspec": {
   "display_name": "Python 3 (ipykernel)",
   "language": "python",
   "name": "python3"
  },
  "language_info": {
   "codemirror_mode": {
    "name": "ipython",
    "version": 3
   },
   "file_extension": ".py",
   "mimetype": "text/x-python",
   "name": "python",
   "nbconvert_exporter": "python",
   "pygments_lexer": "ipython3",
   "version": "3.9.13"
  }
 },
 "nbformat": 4,
 "nbformat_minor": 5
}
