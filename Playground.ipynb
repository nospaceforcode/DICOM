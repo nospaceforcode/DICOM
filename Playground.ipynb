{
 "cells": [
  {
   "cell_type": "markdown",
   "id": "a454a9e4-03bd-4df4-a201-40eb8e76c4d1",
   "metadata": {},
   "source": [
    "# General Use"
   ]
  },
  {
   "cell_type": "markdown",
   "id": "41bad5da-0628-4bdb-81a2-1a4faa13717e",
   "metadata": {},
   "source": [
    "## Find the difference between two DICOM files"
   ]
  },
  {
   "cell_type": "code",
   "execution_count": 1,
   "id": "8003f5d6-17f5-488d-8e4d-c30fc6e61a65",
   "metadata": {
    "tags": []
   },
   "outputs": [],
   "source": [
    "import difflib\n",
    "import pydicom\n",
    "import tabulate\n",
    "\n",
    "from pydicom.data import get_testdata_file\n",
    "from pydicom.valuerep import PersonNameUnicode\n",
    "from pydicom import dcmread, dcmwrite\n",
    "from pydicom.filebase import DicomFileLike\n",
    "\n",
    "from pprint import pprint\n",
    "from pathlib import Path\n",
    "from io import BytesIO\n",
    "from ipytree import Tree, Node\n",
    "import matplotlib.pylab as plt\n",
    "\n",
    "from IPython.display import display, HTML, FileLink"
   ]
  },
  {
   "cell_type": "code",
   "execution_count": 2,
   "id": "d84279f4-7322-43a0-9c85-512cc8ac385e",
   "metadata": {
    "tags": []
   },
   "outputs": [
    {
     "name": "stdout",
     "output_type": "stream",
     "text": [
      "############ /Users/painflat/.local/share/virtualenvs/DICOM--xoABAxb/lib/python3.9/site-packages/pydicom/data/test_files/MR_small.dcm ############\n",
      "{'00080008': {'Value': ['DERIVED', 'SECONDARY', 'OTHER'], 'vr': 'CS'},\n",
      " '00080012': {'Value': ['20040826'], 'vr': 'DA'},\n",
      " '00080013': {'Value': ['185434'], 'vr': 'TM'},\n",
      " '00080014': {'Value': ['1.3.6.1.4.1.5962.3'], 'vr': 'UI'},\n",
      " '00080016': {'Value': ['1.2.840.10008.5.1.4.1.1.4'], 'vr': 'UI'},\n",
      " '00080018': {'Value': ['1.3.6.1.4.1.5962.1.1.4.1.1.20040826185059.5457'],\n",
      "              'vr': 'UI'},\n",
      " '00080020': {'Value': ['20040826'], 'vr': 'DA'},\n",
      " '00080021': {'vr': 'DA'},\n",
      " '00080022': {'vr': 'DA'},\n",
      " '00080030': {'Value': ['185059'], 'vr': 'TM'},\n",
      " '00080031': {'vr': 'TM'},\n",
      " '00080032': {'vr': 'TM'},\n",
      " '00080050': {'vr': 'SH'},\n",
      " '00080060': {'Value': ['MR'], 'vr': 'CS'},\n",
      " '00080070': {'Value': ['TOSHIBA_MEC'], 'vr': 'LO'},\n",
      " '00080080': {'Value': ['TOSHIBA'], 'vr': 'LO'},\n",
      " '00080090': {'vr': 'PN'},\n",
      " '00080201': {'Value': ['-0400'], 'vr': 'SH'},\n",
      " '00081010': {'Value': ['000000000'], 'vr': 'SH'},\n",
      " '00081060': {'Value': [{'Alphabetic': '----'}], 'vr': 'PN'},\n",
      " '00081070': {'Value': [{'Alphabetic': '----'}], 'vr': 'PN'},\n",
      " '00081090': {'Value': ['MRT50H1'], 'vr': 'LO'}}\n",
      "############ /Users/painflat/.local/share/virtualenvs/DICOM--xoABAxb/lib/python3.9/site-packages/pydicom/data/test_files/CT_small.dcm ############\n",
      "{'00080005': {'Value': ['ISO_IR 100'], 'vr': 'CS'},\n",
      " '00080008': {'Value': ['ORIGINAL', 'PRIMARY', 'AXIAL'], 'vr': 'CS'},\n",
      " '00080012': {'Value': ['20040119'], 'vr': 'DA'},\n",
      " '00080013': {'Value': ['072731'], 'vr': 'TM'},\n",
      " '00080014': {'Value': ['1.3.6.1.4.1.5962.3'], 'vr': 'UI'},\n",
      " '00080016': {'Value': ['1.2.840.10008.5.1.4.1.1.2'], 'vr': 'UI'},\n",
      " '00080018': {'Value': ['1.3.6.1.4.1.5962.1.1.1.1.1.20040119072730.12322'],\n",
      "              'vr': 'UI'},\n",
      " '00080020': {'Value': ['20040119'], 'vr': 'DA'},\n",
      " '00080021': {'Value': ['19970430'], 'vr': 'DA'},\n",
      " '00080022': {'Value': ['19970430'], 'vr': 'DA'},\n",
      " '00080023': {'Value': ['19970430'], 'vr': 'DA'},\n",
      " '00080030': {'Value': ['072730'], 'vr': 'TM'},\n",
      " '00080031': {'Value': ['112749'], 'vr': 'TM'},\n",
      " '00080032': {'Value': ['112936'], 'vr': 'TM'},\n",
      " '00080033': {'Value': ['113008'], 'vr': 'TM'},\n",
      " '00080050': {'vr': 'SH'},\n",
      " '00080060': {'Value': ['CT'], 'vr': 'CS'},\n",
      " '00080070': {'Value': ['GE MEDICAL SYSTEMS'], 'vr': 'LO'},\n",
      " '00080080': {'Value': ['JFK IMAGING CENTER'], 'vr': 'LO'},\n",
      " '00080090': {'vr': 'PN'},\n",
      " '00080201': {'Value': ['-0500'], 'vr': 'SH'},\n",
      " '00081010': {'Value': ['CT01_OC0'], 'vr': 'SH'},\n",
      " '00081030': {'Value': ['e+1'], 'vr': 'LO'},\n",
      " '00081090': {'Value': ['RHAPSODE'], 'vr': 'LO'}}\n"
     ]
    }
   ],
   "source": [
    "filename_mr = get_testdata_file('MR_small.dcm')\n",
    "filename_ct = get_testdata_file('CT_small.dcm')\n",
    "\n",
    "datasets = tuple([pydicom.dcmread(filename, force=True) for filename in (filename_mr, filename_ct)])\n",
    "\n",
    "# Reference of pydicom.dataset.filedataset\n",
    "#   https://pydicom.github.io/pydicom/dev/reference/generated/pydicom.dataset.FileDataset.html\n",
    "for data in datasets:\n",
    "    print(f'############ {data.filename} ############')\n",
    "    pprint({k:v for k,v in data.to_json_dict().items() if k.startswith('0008')})"
   ]
  },
  {
   "cell_type": "code",
   "execution_count": 3,
   "id": "1b9d3973-f1b5-45cd-bc36-59f91ff64150",
   "metadata": {
    "tags": []
   },
   "outputs": [
    {
     "data": {
      "text/html": [
       "<a href='diff.html' target='_blank'>diff.html</a><br>"
      ],
      "text/plain": [
       "/Users/painflat/Projects/study/DICOM/diff.html"
      ]
     },
     "execution_count": 3,
     "metadata": {},
     "output_type": "execute_result"
    }
   ],
   "source": [
    "rep = []\n",
    "for dataset in datasets:\n",
    "    lines = str(dataset).split(\"\\n\")\n",
    "    lines = [line + \"\\n\" for line in lines]  # add the newline to end\n",
    "    rep.append(lines)\n",
    "\n",
    "\n",
    "html_diff = difflib.HtmlDiff().make_file(rep[0], rep[1])\n",
    "Path('diff.html').write_text(html_diff)\n",
    "FileLink('diff.html')"
   ]
  },
  {
   "cell_type": "markdown",
   "id": "525cafd0-4370-471e-9f1f-d84d6bd77c96",
   "metadata": {},
   "source": [
    "## Display unicode person names"
   ]
  },
  {
   "cell_type": "code",
   "execution_count": 4,
   "id": "60ed6cc1-9e6f-43dc-8f2a-36ba0bec96d3",
   "metadata": {
    "tags": []
   },
   "outputs": [
    {
     "data": {
      "text/html": [
       "<table>\n",
       "<thead>\n",
       "<tr><th>Encode    </th><th>Name                                </th></tr>\n",
       "</thead>\n",
       "<tbody>\n",
       "<tr><td>iso2022_jp</td><td>Yamada^Tarou=山田^太郎=やまだ^たろう</td></tr>\n",
       "<tr><td>GB18030   </td><td>Wang^XiaoDong=王^小东               </td></tr>\n",
       "<tr><td>UTF-8     </td><td>Wang^XiaoDong=王^小東               </td></tr>\n",
       "<tr><td>euc_kr    </td><td>Hong^Gildong=洪^吉洞=홍^길동        </td></tr>\n",
       "</tbody>\n",
       "</table>"
      ],
      "text/plain": [
       "<IPython.core.display.HTML object>"
      ]
     },
     "metadata": {},
     "output_type": "display_data"
    }
   ],
   "source": [
    "default_encoding = 'iso8859'\n",
    "\n",
    "person_names = [\n",
    "    PersonNameUnicode(\n",
    "        b\"Yamada^Tarou=\\033$B;3ED\\033(B^\\033$BB@O:\"\n",
    "        b\"\\033(B=\\033$B$d$^$@\\033(B^\\033$B$?$m$&\\033(B\",\n",
    "        [default_encoding, 'iso2022_jp']),  # DICOM standard 2008-PS3.5 H.3 p98\n",
    "    PersonNameUnicode(\n",
    "        b\"Wang^XiaoDong=\\xcd\\xf5\\x5e\\xd0\\xa1\\xb6\\xab=\",\n",
    "        [default_encoding, 'GB18030']),  # DICOM standard 2008-PS3.5 J.3 p 105\n",
    "    PersonNameUnicode(\n",
    "        b\"Wang^XiaoDong=\\xe7\\x8e\\x8b\\x5e\\xe5\\xb0\\x8f\\xe6\\x9d\\xb1=\",\n",
    "        [default_encoding, 'UTF-8']),  # DICOM standard 2008-PS3.5 J.1 p 104\n",
    "    PersonNameUnicode(\n",
    "        b\"Hong^Gildong=\\033$)C\\373\\363^\\033$)C\\321\\316\\324\\327=\"\n",
    "        b\"\\033$)C\\310\\253^\\033$)C\\261\\346\\265\\277\",\n",
    "        [default_encoding, 'euc_kr']),  # DICOM standard 2008-PS3.5 I.2 p 101\n",
    "]\n",
    "\n",
    "\n",
    "data = []\n",
    "for name in person_names:\n",
    "    data.append([name.encodings[1], name.decode(name.encodings[1])])\n",
    "\n",
    "table = tabulate.tabulate(data, headers=['Encode', 'Name'], tablefmt='html')\n",
    "display(HTML(table))\n",
    "    "
   ]
  },
  {
   "cell_type": "markdown",
   "id": "9f3a9320-bd75-428f-8d55-56ac802e1db1",
   "metadata": {},
   "source": [
    "## Show working with memory-based dataset"
   ]
  },
  {
   "cell_type": "code",
   "execution_count": 5,
   "id": "db1927de-0670-43cd-8733-9d4b9a9265c7",
   "metadata": {
    "tags": []
   },
   "outputs": [
    {
     "name": "stdout",
     "output_type": "stream",
     "text": [
      "<class 'bytes'>\n",
      "b'II*\\x00T\\x18\\x08\\x00\\x00\\x00\\x00\\x00\\x00\\x00\\x00\\x00\\x00\\x00\\x00\\x00\\x00\\x00\\x00\\x00\\x00\\x00\\x00\\x00\\x00\\x00\\x00\\x00\\x00\\x00\\x00\\x00\\x00\\x00\\x00\\x00\\x00\\x00\\x00\\x00\\x00\\x00\\x00\\x00\\x00\\x00\\x00\\x00\\x00\\x00\\x00\\x00\\x00\\x00\\x00\\x00\\x00\\x00\\x00\\x00\\x00\\x00\\x00\\x00\\x00\\x00\\x00\\x00\\x00\\x00\\x00\\x00\\x00\\x00\\x00\\x00\\x00\\x00\\x00\\x00\\x00\\x00\\x00\\x00\\x00\\x00\\x00\\x00\\x00\\x00\\x00\\x00\\x00\\x00\\x00\\x00'\n",
      "<class 'pydicom.dataset.FileDataset'>\n",
      "Dataset.file_meta -------------------------------\n",
      "(0002, 0000) File Meta Information Group Length  U\n"
     ]
    }
   ],
   "source": [
    "def write_dataset_to_bytes(dataset):\n",
    "    with BytesIO() as buffer:\n",
    "        memory_dataset = DicomFileLike(buffer) # file like object\n",
    "        dcmwrite(memory_dataset, dataset)\n",
    "        memory_dataset.seek(0)\n",
    "        return memory_dataset.read() # return data in bytes\n",
    "\n",
    "\n",
    "def adapt_dataset_from_bytes(blob):\n",
    "    dataset = dcmread(BytesIO(blob))\n",
    "    dataset.is_little_endian = False\n",
    "    dataset.PatientName = 'Bond^James'\n",
    "    dataset.PatientID = '007'\n",
    "    return dataset\n",
    "\n",
    "\n",
    "class DummyDataBase:\n",
    "    def __init__(self):\n",
    "        self._blobs = {}\n",
    "\n",
    "    def save(self, name, blob):\n",
    "        self._blobs[name] = blob\n",
    "\n",
    "    def load(self, name):\n",
    "        return self._blobs.get(name)\n",
    "\n",
    "    \n",
    "file_path = get_testdata_file('CT_small.dcm')\n",
    "db = DummyDataBase()\n",
    "\n",
    "dataset = dcmread(file_path)\n",
    "\n",
    "ds_bytes = write_dataset_to_bytes(dataset)\n",
    "print(type(ds_bytes))\n",
    "print(ds_bytes[:100])\n",
    "db.save('dataset', ds_bytes)\n",
    "\n",
    "read_bytes = db.load('dataset')\n",
    "read_dataset = adapt_dataset_from_bytes(read_bytes)\n",
    "print(type(read_dataset))\n",
    "print(str(read_dataset)[:100])\n"
   ]
  },
  {
   "cell_type": "markdown",
   "id": "f4608d96-7805-4bb2-87b6-1d604e69ae71",
   "metadata": {},
   "source": [
    "## Show a dicom file using hierarchical tree"
   ]
  },
  {
   "cell_type": "code",
   "execution_count": 6,
   "id": "6075a275-c0a8-460a-9555-d00e93d11b1a",
   "metadata": {
    "tags": []
   },
   "outputs": [
    {
     "data": {
      "application/vnd.jupyter.widget-view+json": {
       "model_id": "4c613f3b2d9c40508d4854ea6b812b26",
       "version_major": 2,
       "version_minor": 0
      },
      "text/plain": [
       "Tree(nodes=(Node(name='root', nodes=(Node(name=\"(0008, 0005) Specific Character Set              CS: 'ISO_IR 1…"
      ]
     },
     "execution_count": 6,
     "metadata": {},
     "output_type": "execute_result"
    }
   ],
   "source": [
    "file_path = get_testdata_file('CT_small.dcm')\n",
    "ds = pydicom.dcmread(file_path)\n",
    "ds.decode()\n",
    "\n",
    "\n",
    "def recurse_tree(tree, dataset, parent_node, hide):\n",
    "    for data in dataset:\n",
    "        node = Node(str(data))\n",
    "        parent_node.add_node(node)\n",
    "            \n",
    "        if data.VR == \"SQ\":\n",
    "            node.opened = False\n",
    "            for idx , ds in enumerate(data.value):\n",
    "                description = data.name.replace(\"Sequence\", \"\")\n",
    "                node_name = f\"{description}-{idx+1}\"\n",
    "                node.add_node(Node(node_name))\n",
    "                recurse_tree(tree, ds, node, True)\n",
    "\n",
    "\n",
    "tree = Tree()\n",
    "root_node = Node(\"root\")\n",
    "root_node.opened = False\n",
    "recurse_tree(tree, ds, root_node, False)\n",
    "tree.add_node(root_node)\n",
    "tree"
   ]
  },
  {
   "cell_type": "markdown",
   "id": "fcf64285-a573-44b2-bc57-27bf169cdd35",
   "metadata": {},
   "source": [
    "# Image Processing"
   ]
  },
  {
   "cell_type": "markdown",
   "id": "44f8e7a5-04fa-4f1c-91bb-c851175dfa25",
   "metadata": {},
   "source": [
    "## Downsize MRI image using pydicom"
   ]
  },
  {
   "cell_type": "code",
   "execution_count": 35,
   "id": "24e75de8-690c-4010-98c6-b102b6232605",
   "metadata": {},
   "outputs": [
    {
     "data": {
      "image/png": "[encoded data removed]",
      "text/plain": [
       "<Figure size 800x800 with 4 Axes>"
      ]
     },
     "metadata": {},
     "output_type": "display_data"
    }
   ],
   "source": [
    "fig, ax = plt.subplots(1, 2, figsize=(8, 8))\n",
    "\n",
    "\n",
    "filename = get_testdata_file('MR_small.dcm')\n",
    "ds = pydicom.dcmread(filename)\n",
    "\n",
    "\n",
    "data = ds.pixel_array\n",
    "ax[0].set_title(f'The image has {data.shape[0]} x {data.shape[1]} voxels')\n",
    "ax[0].axis('off')\n",
    "fig.add_subplot(1, 2, 1)\n",
    "plt.imshow(ds.pixel_array)\n",
    "\n",
    "\n",
    "data_downsampling = data[::8, ::8]\n",
    "ds.PixelData = data_downsampling.tobytes()\n",
    "ds.Rows, ds.Columns = data_downsampling.shape\n",
    "ax[1].set_title(f'The downsampled image has {data_downsampling.shape[0]} x {data_downsampling.shape[1]} voxels')\n",
    "ax[1].axis('off')\n",
    "fig.add_subplot(1, 2, 2)\n",
    "plt.imshow(ds.pixel_array)\n",
    "\n",
    "\n",
    "plt.show()"
   ]
  },
  {
   "cell_type": "markdown",
   "id": "e841fbea-ea26-43aa-9c07-df1a176fde36",
   "metadata": {},
   "source": [
    "# Input & Output"
   ]
  },
  {
   "cell_type": "code",
   "execution_count": null,
   "id": "be45cbf3-9ba4-49c8-afad-f2446108897b",
   "metadata": {},
   "outputs": [],
   "source": []
  },
  {
   "cell_type": "markdown",
   "id": "9270b611-bfd0-416f-a1ee-77f02cdcc271",
   "metadata": {},
   "source": [
    "# Metadata Processing"
   ]
  },
  {
   "cell_type": "code",
   "execution_count": null,
   "id": "0afe2dcd-6590-4078-83e1-0d6db733217f",
   "metadata": {},
   "outputs": [],
   "source": []
  },
  {
   "cell_type": "markdown",
   "id": "9df6c5f2-5e5e-4b7d-ba6c-5248b5c55d76",
   "metadata": {},
   "source": [
    "# DICOM Network Protocol"
   ]
  },
  {
   "cell_type": "code",
   "execution_count": null,
   "id": "3a112e0a-66cf-4d93-ade7-24f9016efb5b",
   "metadata": {},
   "outputs": [],
   "source": []
  },
  {
   "cell_type": "markdown",
   "id": "bb7d29e8-672b-4e2d-8029-60385b1356e4",
   "metadata": {},
   "source": [
    "# Introduction of Orthanc"
   ]
  },
  {
   "cell_type": "code",
   "execution_count": null,
   "id": "7bef68d6-9929-4f98-ae77-bfa7d8b25fb5",
   "metadata": {},
   "outputs": [],
   "source": []
  }
 ],
 "metadata": {
  "kernelspec": {
   "display_name": "Python 3 (ipykernel)",
   "language": "python",
   "name": "python3"
  },
  "language_info": {
   "codemirror_mode": {
    "name": "ipython",
    "version": 3
   },
   "file_extension": ".py",
   "mimetype": "text/x-python",
   "name": "python",
   "nbconvert_exporter": "python",
   "pygments_lexer": "ipython3",
   "version": "3.9.13"
  }
 },
 "nbformat": 4,
 "nbformat_minor": 5
}
